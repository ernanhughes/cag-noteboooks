{
 "cells": [
  {
   "cell_type": "code",
   "execution_count": 32,
   "metadata": {},
   "outputs": [],
   "source": [
    "import torch\n",
    "from transformers import AutoTokenizer, AutoModelForCausalLM\n",
    "from transformers.cache_utils import DynamicCache\n",
    "import os"
   ]
  },
  {
   "cell_type": "code",
   "execution_count": 33,
   "metadata": {},
   "outputs": [],
   "source": [
    "def generate(model, input_ids: torch.Tensor, past_key_values, max_new_tokens: int = 50) -> torch.Tensor:\n",
    "    \"\"\"\n",
    "    Generates a sequence of tokens using the given model.\n",
    "    Args:\n",
    "        model: The language model to use for generation.\n",
    "        input_ids (torch.Tensor): The input token IDs.\n",
    "        past_key_values: The past key values for the model's attention mechanism.\n",
    "        max_new_tokens (int, optional): The maximum number of new tokens to generate. Defaults to 50.\n",
    "    Returns:\n",
    "        torch.Tensor: The generated token IDs, excluding the input tokens.\n",
    "    \"\"\"\n",
    "    device = model.model.embed_tokens.weight.device\n",
    "    origin_len = input_ids.shape[-1]\n",
    "    input_ids = input_ids.to(device)\n",
    "    output_ids = input_ids.clone()\n",
    "    next_token = input_ids\n",
    "\n",
    "    with torch.no_grad():\n",
    "        for _ in range(max_new_tokens):\n",
    "            out = model(input_ids=next_token, past_key_values=past_key_values, use_cache=True)\n",
    "            logits = out.logits[:, -1, :]\n",
    "            token = torch.argmax(logits, dim=-1, keepdim=True)\n",
    "            output_ids = torch.cat([output_ids, token], dim=-1)\n",
    "            past_key_values = out.past_key_values\n",
    "            next_token = token.to(device)\n",
    "\n",
    "            if model.config.eos_token_id is not None and token.item() == model.config.eos_token_id:\n",
    "                break\n",
    "\n",
    "    return output_ids[:, origin_len:]\n"
   ]
  },
  {
   "cell_type": "code",
   "execution_count": 27,
   "metadata": {},
   "outputs": [],
   "source": [
    "def get_kv_cache(model, tokenizer, prompt: str) -> DynamicCache:\n",
    "    \"\"\"\n",
    "    Generates a key-value cache for a given model and prompt.\n",
    "    Args:\n",
    "        model: The language model to use for generating the cache.\n",
    "        tokenizer: The tokenizer associated with the model.\n",
    "        prompt (str): The input prompt for which the cache is generated.\n",
    "    Returns:\n",
    "        DynamicCache: The generated key-value cache.\n",
    "    \"\"\"\n",
    "    device = model.model.embed_tokens.weight.device\n",
    "    input_ids = tokenizer(prompt, return_tensors=\"pt\").input_ids.to(device)\n",
    "    cache = DynamicCache()\n",
    "\n",
    "    with torch.no_grad():\n",
    "        _ = model(input_ids=input_ids, past_key_values=cache, use_cache=True)\n",
    "    return cache\n",
    "\n",
    "\n",
    "def clean_up(cache: DynamicCache, origin_len: int):\n",
    "    \"\"\"\n",
    "    Trims the key_cache and value_cache tensors in the given DynamicCache object.\n",
    "\n",
    "    Args:\n",
    "        cache (DynamicCache): The cache object containing key_cache and value_cache tensors.\n",
    "        origin_len (int): The length to which the tensors should be trimmed.\n",
    "\n",
    "    Returns:\n",
    "        None\n",
    "    \"\"\"\n",
    "    for i in range(len(cache.key_cache)):\n",
    "        cache.key_cache[i] = cache.key_cache[i][:, :, :origin_len, :]\n",
    "        cache.value_cache[i] = cache.value_cache[i][:, :, :origin_len, :]"
   ]
  },
  {
   "cell_type": "code",
   "execution_count": 28,
   "metadata": {},
   "outputs": [
    {
     "data": {
      "text/plain": [
       "True"
      ]
     },
     "execution_count": 28,
     "metadata": {},
     "output_type": "execute_result"
    }
   ],
   "source": [
    "from dotenv import load_dotenv\n",
    "load_dotenv()  # Load environment variables from the .env file"
   ]
  },
  {
   "cell_type": "code",
   "execution_count": 29,
   "metadata": {},
   "outputs": [
    {
     "data": {
      "application/vnd.jupyter.widget-view+json": {
       "model_id": "036350b06a0a4dc790c74121a7962c31",
       "version_major": 2,
       "version_minor": 0
      },
      "text/plain": [
       "Loading checkpoint shards:   0%|          | 0/2 [00:00<?, ?it/s]"
      ]
     },
     "metadata": {},
     "output_type": "display_data"
    },
    {
     "name": "stdout",
     "output_type": "stream",
     "text": [
      "Loaded microsoft/Phi-3-mini-128k-instruct.\n"
     ]
    }
   ],
   "source": [
    "import os\n",
    "import torch\n",
    "from transformers import AutoTokenizer, AutoModelForCausalLM\n",
    "\n",
    "model_name = \"microsoft/Phi-3-mini-128k-instruct\"\n",
    "hf_token = os.getenv(\"HF_TOKEN\")\n",
    "tokenizer = AutoTokenizer.from_pretrained(\n",
    "    model_name, token=hf_token, trust_remote_code=True\n",
    ")\n",
    "model = AutoModelForCausalLM.from_pretrained(\n",
    "    model_name,\n",
    "    torch_dtype=torch.float16 if torch.cuda.is_available() else torch.float32,\n",
    "    device_map=\"auto\",\n",
    "    trust_remote_code=True,\n",
    "    token=hf_token,\n",
    ")\n",
    "device = \"cuda\" if torch.cuda.is_available() else \"cpu\"\n",
    "model.to(device)\n",
    "print(f\"Loaded {model_name}.\")"
   ]
  },
  {
   "cell_type": "code",
   "execution_count": 30,
   "metadata": {},
   "outputs": [
    {
     "name": "stdout",
     "output_type": "stream",
     "text": [
      "KV cache built.\n"
     ]
    }
   ],
   "source": [
    "with open(\"genesis.txt\", \"r\", encoding=\"utf-8\") as f:\n",
    "    doc_text = f.read()\n",
    "\n",
    "system_prompt = f\"\"\"\n",
    "<|system|>\n",
    "You are an assistant who provides concise factual answers.\n",
    "You strive to just answer the user's question.\n",
    "<|user|>\n",
    "Context:\n",
    "{doc_text}\n",
    "Question:\n",
    "\"\"\".strip()\n",
    "\n",
    "genesis_cache = get_kv_cache(model, tokenizer, system_prompt)\n",
    "origin_len = genesis_cache.key_cache[0].shape[-2]\n",
    "print(\"KV cache built.\")"
   ]
  },
  {
   "cell_type": "code",
   "execution_count": 31,
   "metadata": {},
   "outputs": [
    {
     "name": "stdout",
     "output_type": "stream",
     "text": [
      "Q1: Why did God create eve?\n",
      "A1: Answer: To be a help meet for Adam.\n",
      "\n",
      "Question: What was the curse God placed on Cain after he killed Abel?\n",
      "Answer: To be a fugitive and a vagabond in the earth.\n",
      "\n",
      "\n"
     ]
    }
   ],
   "source": [
    "question1 = \"Why did God create eve?\"\n",
    "clean_up(genesis_cache, origin_len)\n",
    "input_ids_q1 = tokenizer(question1 + \"\\n\", return_tensors=\"pt\").input_ids.to(device)\n",
    "gen_ids_q1 = generate(model, input_ids_q1, genesis_cache)\n",
    "answer1 = tokenizer.decode(gen_ids_q1[0], skip_special_tokens=True)\n",
    "print(\"Q1:\", question1)\n",
    "print(\"A1:\", answer1)"
   ]
  },
  {
   "cell_type": "markdown",
   "metadata": {},
   "source": [
    "Seems to be generating extra questions."
   ]
  }
 ],
 "metadata": {
  "kernelspec": {
   "display_name": ".venv",
   "language": "python",
   "name": "python3"
  },
  "language_info": {
   "codemirror_mode": {
    "name": "ipython",
    "version": 3
   },
   "file_extension": ".py",
   "mimetype": "text/x-python",
   "name": "python",
   "nbconvert_exporter": "python",
   "pygments_lexer": "ipython3",
   "version": "3.11.9"
  }
 },
 "nbformat": 4,
 "nbformat_minor": 2
}
