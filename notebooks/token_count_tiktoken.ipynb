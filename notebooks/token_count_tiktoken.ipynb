{
 "cells": [
  {
   "cell_type": "markdown",
   "metadata": {},
   "source": [
    "# Token count using tiktoken\n",
    "\n",
    "You can use tiktoken to get a rough token count."
   ]
  },
  {
   "cell_type": "code",
   "execution_count": 2,
   "metadata": {},
   "outputs": [
    {
     "name": "stdout",
     "output_type": "stream",
     "text": [
      "d:\\projects\\cag-noteboooks\\notebooks\\shakespeare.txt\n"
     ]
    }
   ],
   "source": [
    "import os\n",
    "data_path = os.path.abspath(\"shakespeare.txt\")\n",
    "print(data_path)"
   ]
  },
  {
   "cell_type": "code",
   "execution_count": 4,
   "metadata": {},
   "outputs": [
    {
     "name": "stdout",
     "output_type": "stream",
     "text": [
      "Number of tokens in the file d:\\projects\\cag-noteboooks\\notebooks\\shakespeare.txt: 1570456\n"
     ]
    }
   ],
   "source": [
    "import tiktoken\n",
    "\n",
    "def count_tokens_in_file(file_path: str, model_name: str = \"p50k_base\") -> int:\n",
    "    # Load the tokenizer for the model (adjust model_name if needed)\n",
    "    encoder = tiktoken.get_encoding(model_name)\n",
    "\n",
    "    # Read the file content\n",
    "    with open(file_path, 'r', encoding='utf-8') as file:\n",
    "        file_content = file.read()\n",
    "\n",
    "    # Tokenize the file content and count tokens\n",
    "    tokens = encoder.encode(file_content)\n",
    "\n",
    "    # Return the number of tokens\n",
    "    return len(tokens)\n",
    "\n",
    "# Example usage\n",
    "token_count = count_tokens_in_file(data_path)\n",
    "print(f\"Number of tokens in the file {data_path}: {token_count}\")\n"
   ]
  },
  {
   "cell_type": "markdown",
   "metadata": {},
   "source": [
    "## Comparison to using the model to calculate the tokens"
   ]
  },
  {
   "cell_type": "code",
   "execution_count": 1,
   "metadata": {},
   "outputs": [
    {
     "name": "stdout",
     "output_type": "stream",
     "text": [
      "Percentage difference: 6.71%\n"
     ]
    }
   ],
   "source": [
    "def percentage_difference(old_value, new_value):\n",
    "  \"\"\"\n",
    "  Calculates the percentage difference between two numbers.\n",
    "\n",
    "  Args:\n",
    "    old_value: The original value.\n",
    "    new_value: The new value.\n",
    "\n",
    "  Returns:\n",
    "    The percentage difference as a float.\n",
    "  \"\"\"\n",
    "  try:\n",
    "    difference = new_value - old_value\n",
    "    if old_value == 0:\n",
    "      return float('inf')  # Handle division by zero\n",
    "    return (difference / abs(old_value)) * 100\n",
    "  except ZeroDivisionError:\n",
    "    return float('inf')\n",
    "\n",
    "# Example usage:\n",
    "old_value = 1471749\n",
    "new_value = 1570456\n",
    "\n",
    "percentage_change = percentage_difference(old_value, new_value)\n",
    "print(f\"Percentage difference: {percentage_change:.2f}%\")"
   ]
  },
  {
   "cell_type": "markdown",
   "metadata": {},
   "source": [
    "# We see we are withing 7% of the original value. \n",
    "This shows that tiktoken is useful for a rough estimate of text size."
   ]
  }
 ],
 "metadata": {
  "kernelspec": {
   "display_name": ".venv",
   "language": "python",
   "name": "python3"
  },
  "language_info": {
   "codemirror_mode": {
    "name": "ipython",
    "version": 3
   },
   "file_extension": ".py",
   "mimetype": "text/x-python",
   "name": "python",
   "nbconvert_exporter": "python",
   "pygments_lexer": "ipython3",
   "version": "3.11.9"
  }
 },
 "nbformat": 4,
 "nbformat_minor": 2
}
